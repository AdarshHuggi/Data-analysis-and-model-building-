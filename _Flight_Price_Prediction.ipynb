{
  "nbformat": 4,
  "nbformat_minor": 0,
  "metadata": {
    "kernelspec": {
      "display_name": "Python 3",
      "language": "python",
      "name": "python3"
    },
    "language_info": {
      "codemirror_mode": {
        "name": "ipython",
        "version": 3
      },
      "file_extension": ".py",
      "mimetype": "text/x-python",
      "name": "python",
      "nbconvert_exporter": "python",
      "pygments_lexer": "ipython3",
      "version": "3.7.3"
    },
    "colab": {
      "name": "# Flight Price Prediction",
      "provenance": [],
      "collapsed_sections": []
    }
  },
  "cells": [
    {
      "cell_type": "markdown",
      "metadata": {
        "id": "uhq2PVKJnPNh"
      },
      "source": [
        "# Flight Price Prediction"
      ]
    },
    {
      "cell_type": "markdown",
      "metadata": {
        "id": "AT0cvC3UnPNj"
      },
      "source": [
        "Description: In this dataset Dependet variables contains the descrate continues values, Dependent variables is Flight ticket \"Price\" and feature variables given below\n",
        "\n",
        "\n",
        "Features Variables -\n",
        "\n",
        "    Airline\n",
        "    Date_of_Journey\n",
        "    Source\n",
        "    Destination\n",
        "    Route\n",
        "    Dep_Time\n",
        "    Arrival_Time\n",
        "    Duration\n",
        "    Total_Stops\n",
        "    Additional_Info\n",
        "    Price"
      ]
    },
    {
      "cell_type": "code",
      "metadata": {
        "id": "Trp09TOjnPNk"
      },
      "source": [
        "import pandas as pd\n",
        "import numpy as np\n",
        "import seaborn as sns\n",
        "import matplotlib.pyplot as plt\n",
        "import sklearn\n",
        "from sklearn import metrics\n",
        "from sklearn.metrics import mean_squared_error, mean_absolute_error\n",
        "from sklearn.model_selection import train_test_split\n",
        "from sklearn.metrics import accuracy_score\n",
        "from scipy.stats import zscore\n",
        "import warnings\n",
        "warnings.filterwarnings('ignore')"
      ],
      "execution_count": 193,
      "outputs": []
    },
    {
      "cell_type": "code",
      "metadata": {
        "colab": {
          "base_uri": "https://localhost:8080/",
          "height": 374
        },
        "id": "K34vbwnsnPNl",
        "outputId": "79aa8697-f4fb-4b13-bd82-ee5b695dd07f"
      },
      "source": [
        "# reading the Excel file \n",
        "df_train = pd.read_excel('flight_Data_Train.xlsx')\n",
        "df_test = pd.read_excel('flight_Test_set.xlsx')\n",
        "df_train.head()"
      ],
      "execution_count": 194,
      "outputs": [
        {
          "output_type": "execute_result",
          "data": {
            "text/html": [
              "<div>\n",
              "<style scoped>\n",
              "    .dataframe tbody tr th:only-of-type {\n",
              "        vertical-align: middle;\n",
              "    }\n",
              "\n",
              "    .dataframe tbody tr th {\n",
              "        vertical-align: top;\n",
              "    }\n",
              "\n",
              "    .dataframe thead th {\n",
              "        text-align: right;\n",
              "    }\n",
              "</style>\n",
              "<table border=\"1\" class=\"dataframe\">\n",
              "  <thead>\n",
              "    <tr style=\"text-align: right;\">\n",
              "      <th></th>\n",
              "      <th>Airline</th>\n",
              "      <th>Date_of_Journey</th>\n",
              "      <th>Source</th>\n",
              "      <th>Destination</th>\n",
              "      <th>Route</th>\n",
              "      <th>Dep_Time</th>\n",
              "      <th>Arrival_Time</th>\n",
              "      <th>Duration</th>\n",
              "      <th>Total_Stops</th>\n",
              "      <th>Additional_Info</th>\n",
              "      <th>Price</th>\n",
              "    </tr>\n",
              "  </thead>\n",
              "  <tbody>\n",
              "    <tr>\n",
              "      <th>0</th>\n",
              "      <td>IndiGo</td>\n",
              "      <td>24/03/2019</td>\n",
              "      <td>Banglore</td>\n",
              "      <td>New Delhi</td>\n",
              "      <td>BLR → DEL</td>\n",
              "      <td>22:20</td>\n",
              "      <td>01:10 22 Mar</td>\n",
              "      <td>2h 50m</td>\n",
              "      <td>non-stop</td>\n",
              "      <td>No info</td>\n",
              "      <td>3897</td>\n",
              "    </tr>\n",
              "    <tr>\n",
              "      <th>1</th>\n",
              "      <td>Air India</td>\n",
              "      <td>1/05/2019</td>\n",
              "      <td>Kolkata</td>\n",
              "      <td>Banglore</td>\n",
              "      <td>CCU → IXR → BBI → BLR</td>\n",
              "      <td>05:50</td>\n",
              "      <td>13:15</td>\n",
              "      <td>7h 25m</td>\n",
              "      <td>2 stops</td>\n",
              "      <td>No info</td>\n",
              "      <td>7662</td>\n",
              "    </tr>\n",
              "    <tr>\n",
              "      <th>2</th>\n",
              "      <td>Jet Airways</td>\n",
              "      <td>9/06/2019</td>\n",
              "      <td>Delhi</td>\n",
              "      <td>Cochin</td>\n",
              "      <td>DEL → LKO → BOM → COK</td>\n",
              "      <td>09:25</td>\n",
              "      <td>04:25 10 Jun</td>\n",
              "      <td>19h</td>\n",
              "      <td>2 stops</td>\n",
              "      <td>No info</td>\n",
              "      <td>13882</td>\n",
              "    </tr>\n",
              "    <tr>\n",
              "      <th>3</th>\n",
              "      <td>IndiGo</td>\n",
              "      <td>12/05/2019</td>\n",
              "      <td>Kolkata</td>\n",
              "      <td>Banglore</td>\n",
              "      <td>CCU → NAG → BLR</td>\n",
              "      <td>18:05</td>\n",
              "      <td>23:30</td>\n",
              "      <td>5h 25m</td>\n",
              "      <td>1 stop</td>\n",
              "      <td>No info</td>\n",
              "      <td>6218</td>\n",
              "    </tr>\n",
              "    <tr>\n",
              "      <th>4</th>\n",
              "      <td>IndiGo</td>\n",
              "      <td>01/03/2019</td>\n",
              "      <td>Banglore</td>\n",
              "      <td>New Delhi</td>\n",
              "      <td>BLR → NAG → DEL</td>\n",
              "      <td>16:50</td>\n",
              "      <td>21:35</td>\n",
              "      <td>4h 45m</td>\n",
              "      <td>1 stop</td>\n",
              "      <td>No info</td>\n",
              "      <td>13302</td>\n",
              "    </tr>\n",
              "  </tbody>\n",
              "</table>\n",
              "</div>"
            ],
            "text/plain": [
              "       Airline Date_of_Journey    Source  ... Total_Stops Additional_Info  Price\n",
              "0       IndiGo      24/03/2019  Banglore  ...    non-stop         No info   3897\n",
              "1    Air India       1/05/2019   Kolkata  ...     2 stops         No info   7662\n",
              "2  Jet Airways       9/06/2019     Delhi  ...     2 stops         No info  13882\n",
              "3       IndiGo      12/05/2019   Kolkata  ...      1 stop         No info   6218\n",
              "4       IndiGo      01/03/2019  Banglore  ...      1 stop         No info  13302\n",
              "\n",
              "[5 rows x 11 columns]"
            ]
          },
          "metadata": {
            "tags": []
          },
          "execution_count": 194
        }
      ]
    },
    {
      "cell_type": "code",
      "metadata": {
        "colab": {
          "base_uri": "https://localhost:8080/",
          "height": 272
        },
        "id": "Z-63QF2rnPNm",
        "outputId": "8e589f50-5e63-44c4-b673-e1b7e6693fc6"
      },
      "source": [
        "df_test.head()"
      ],
      "execution_count": 195,
      "outputs": [
        {
          "output_type": "execute_result",
          "data": {
            "text/html": [
              "<div>\n",
              "<style scoped>\n",
              "    .dataframe tbody tr th:only-of-type {\n",
              "        vertical-align: middle;\n",
              "    }\n",
              "\n",
              "    .dataframe tbody tr th {\n",
              "        vertical-align: top;\n",
              "    }\n",
              "\n",
              "    .dataframe thead th {\n",
              "        text-align: right;\n",
              "    }\n",
              "</style>\n",
              "<table border=\"1\" class=\"dataframe\">\n",
              "  <thead>\n",
              "    <tr style=\"text-align: right;\">\n",
              "      <th></th>\n",
              "      <th>Airline</th>\n",
              "      <th>Date_of_Journey</th>\n",
              "      <th>Source</th>\n",
              "      <th>Destination</th>\n",
              "      <th>Route</th>\n",
              "      <th>Dep_Time</th>\n",
              "      <th>Arrival_Time</th>\n",
              "      <th>Duration</th>\n",
              "      <th>Total_Stops</th>\n",
              "      <th>Additional_Info</th>\n",
              "    </tr>\n",
              "  </thead>\n",
              "  <tbody>\n",
              "    <tr>\n",
              "      <th>0</th>\n",
              "      <td>Jet Airways</td>\n",
              "      <td>6/06/2019</td>\n",
              "      <td>Delhi</td>\n",
              "      <td>Cochin</td>\n",
              "      <td>DEL → BOM → COK</td>\n",
              "      <td>17:30</td>\n",
              "      <td>04:25 07 Jun</td>\n",
              "      <td>10h 55m</td>\n",
              "      <td>1 stop</td>\n",
              "      <td>No info</td>\n",
              "    </tr>\n",
              "    <tr>\n",
              "      <th>1</th>\n",
              "      <td>IndiGo</td>\n",
              "      <td>12/05/2019</td>\n",
              "      <td>Kolkata</td>\n",
              "      <td>Banglore</td>\n",
              "      <td>CCU → MAA → BLR</td>\n",
              "      <td>06:20</td>\n",
              "      <td>10:20</td>\n",
              "      <td>4h</td>\n",
              "      <td>1 stop</td>\n",
              "      <td>No info</td>\n",
              "    </tr>\n",
              "    <tr>\n",
              "      <th>2</th>\n",
              "      <td>Jet Airways</td>\n",
              "      <td>21/05/2019</td>\n",
              "      <td>Delhi</td>\n",
              "      <td>Cochin</td>\n",
              "      <td>DEL → BOM → COK</td>\n",
              "      <td>19:15</td>\n",
              "      <td>19:00 22 May</td>\n",
              "      <td>23h 45m</td>\n",
              "      <td>1 stop</td>\n",
              "      <td>In-flight meal not included</td>\n",
              "    </tr>\n",
              "    <tr>\n",
              "      <th>3</th>\n",
              "      <td>Multiple carriers</td>\n",
              "      <td>21/05/2019</td>\n",
              "      <td>Delhi</td>\n",
              "      <td>Cochin</td>\n",
              "      <td>DEL → BOM → COK</td>\n",
              "      <td>08:00</td>\n",
              "      <td>21:00</td>\n",
              "      <td>13h</td>\n",
              "      <td>1 stop</td>\n",
              "      <td>No info</td>\n",
              "    </tr>\n",
              "    <tr>\n",
              "      <th>4</th>\n",
              "      <td>Air Asia</td>\n",
              "      <td>24/06/2019</td>\n",
              "      <td>Banglore</td>\n",
              "      <td>Delhi</td>\n",
              "      <td>BLR → DEL</td>\n",
              "      <td>23:55</td>\n",
              "      <td>02:45 25 Jun</td>\n",
              "      <td>2h 50m</td>\n",
              "      <td>non-stop</td>\n",
              "      <td>No info</td>\n",
              "    </tr>\n",
              "  </tbody>\n",
              "</table>\n",
              "</div>"
            ],
            "text/plain": [
              "             Airline Date_of_Journey  ... Total_Stops              Additional_Info\n",
              "0        Jet Airways       6/06/2019  ...      1 stop                      No info\n",
              "1             IndiGo      12/05/2019  ...      1 stop                      No info\n",
              "2        Jet Airways      21/05/2019  ...      1 stop  In-flight meal not included\n",
              "3  Multiple carriers      21/05/2019  ...      1 stop                      No info\n",
              "4           Air Asia      24/06/2019  ...    non-stop                      No info\n",
              "\n",
              "[5 rows x 10 columns]"
            ]
          },
          "metadata": {
            "tags": []
          },
          "execution_count": 195
        }
      ]
    },
    {
      "cell_type": "code",
      "metadata": {
        "colab": {
          "base_uri": "https://localhost:8080/",
          "height": 272
        },
        "id": "rzQ_pVI0nPNn",
        "outputId": "8fb2a9b0-40a1-4911-ddce-5685edf05f51"
      },
      "source": [
        "df_test.head()"
      ],
      "execution_count": 196,
      "outputs": [
        {
          "output_type": "execute_result",
          "data": {
            "text/html": [
              "<div>\n",
              "<style scoped>\n",
              "    .dataframe tbody tr th:only-of-type {\n",
              "        vertical-align: middle;\n",
              "    }\n",
              "\n",
              "    .dataframe tbody tr th {\n",
              "        vertical-align: top;\n",
              "    }\n",
              "\n",
              "    .dataframe thead th {\n",
              "        text-align: right;\n",
              "    }\n",
              "</style>\n",
              "<table border=\"1\" class=\"dataframe\">\n",
              "  <thead>\n",
              "    <tr style=\"text-align: right;\">\n",
              "      <th></th>\n",
              "      <th>Airline</th>\n",
              "      <th>Date_of_Journey</th>\n",
              "      <th>Source</th>\n",
              "      <th>Destination</th>\n",
              "      <th>Route</th>\n",
              "      <th>Dep_Time</th>\n",
              "      <th>Arrival_Time</th>\n",
              "      <th>Duration</th>\n",
              "      <th>Total_Stops</th>\n",
              "      <th>Additional_Info</th>\n",
              "    </tr>\n",
              "  </thead>\n",
              "  <tbody>\n",
              "    <tr>\n",
              "      <th>0</th>\n",
              "      <td>Jet Airways</td>\n",
              "      <td>6/06/2019</td>\n",
              "      <td>Delhi</td>\n",
              "      <td>Cochin</td>\n",
              "      <td>DEL → BOM → COK</td>\n",
              "      <td>17:30</td>\n",
              "      <td>04:25 07 Jun</td>\n",
              "      <td>10h 55m</td>\n",
              "      <td>1 stop</td>\n",
              "      <td>No info</td>\n",
              "    </tr>\n",
              "    <tr>\n",
              "      <th>1</th>\n",
              "      <td>IndiGo</td>\n",
              "      <td>12/05/2019</td>\n",
              "      <td>Kolkata</td>\n",
              "      <td>Banglore</td>\n",
              "      <td>CCU → MAA → BLR</td>\n",
              "      <td>06:20</td>\n",
              "      <td>10:20</td>\n",
              "      <td>4h</td>\n",
              "      <td>1 stop</td>\n",
              "      <td>No info</td>\n",
              "    </tr>\n",
              "    <tr>\n",
              "      <th>2</th>\n",
              "      <td>Jet Airways</td>\n",
              "      <td>21/05/2019</td>\n",
              "      <td>Delhi</td>\n",
              "      <td>Cochin</td>\n",
              "      <td>DEL → BOM → COK</td>\n",
              "      <td>19:15</td>\n",
              "      <td>19:00 22 May</td>\n",
              "      <td>23h 45m</td>\n",
              "      <td>1 stop</td>\n",
              "      <td>In-flight meal not included</td>\n",
              "    </tr>\n",
              "    <tr>\n",
              "      <th>3</th>\n",
              "      <td>Multiple carriers</td>\n",
              "      <td>21/05/2019</td>\n",
              "      <td>Delhi</td>\n",
              "      <td>Cochin</td>\n",
              "      <td>DEL → BOM → COK</td>\n",
              "      <td>08:00</td>\n",
              "      <td>21:00</td>\n",
              "      <td>13h</td>\n",
              "      <td>1 stop</td>\n",
              "      <td>No info</td>\n",
              "    </tr>\n",
              "    <tr>\n",
              "      <th>4</th>\n",
              "      <td>Air Asia</td>\n",
              "      <td>24/06/2019</td>\n",
              "      <td>Banglore</td>\n",
              "      <td>Delhi</td>\n",
              "      <td>BLR → DEL</td>\n",
              "      <td>23:55</td>\n",
              "      <td>02:45 25 Jun</td>\n",
              "      <td>2h 50m</td>\n",
              "      <td>non-stop</td>\n",
              "      <td>No info</td>\n",
              "    </tr>\n",
              "  </tbody>\n",
              "</table>\n",
              "</div>"
            ],
            "text/plain": [
              "             Airline Date_of_Journey  ... Total_Stops              Additional_Info\n",
              "0        Jet Airways       6/06/2019  ...      1 stop                      No info\n",
              "1             IndiGo      12/05/2019  ...      1 stop                      No info\n",
              "2        Jet Airways      21/05/2019  ...      1 stop  In-flight meal not included\n",
              "3  Multiple carriers      21/05/2019  ...      1 stop                      No info\n",
              "4           Air Asia      24/06/2019  ...    non-stop                      No info\n",
              "\n",
              "[5 rows x 10 columns]"
            ]
          },
          "metadata": {
            "tags": []
          },
          "execution_count": 196
        }
      ]
    },
    {
      "cell_type": "code",
      "metadata": {
        "colab": {
          "base_uri": "https://localhost:8080/"
        },
        "id": "7-adfKA3nPNn",
        "outputId": "a0ac08ef-dfda-4455-d7fd-b61e360b4f6c"
      },
      "source": [
        "print(df_train.shape, df_test.shape)"
      ],
      "execution_count": 197,
      "outputs": [
        {
          "output_type": "stream",
          "text": [
            "(10683, 11) (2671, 10)\n"
          ],
          "name": "stdout"
        }
      ]
    },
    {
      "cell_type": "markdown",
      "metadata": {
        "id": "F6HH9QIHnPNo"
      },
      "source": [
        "Observation: \n",
        "1. Data training set contains 10683 records and 11 variables\n",
        "2. Data test set contains the 2671 records and 10 variables\n",
        "    "
      ]
    },
    {
      "cell_type": "code",
      "metadata": {
        "colab": {
          "base_uri": "https://localhost:8080/"
        },
        "id": "GQvJcKohnPNp",
        "outputId": "3ced632d-02f5-4507-d950-96106110466e"
      },
      "source": [
        "print(df_train.info())"
      ],
      "execution_count": 198,
      "outputs": [
        {
          "output_type": "stream",
          "text": [
            "<class 'pandas.core.frame.DataFrame'>\n",
            "RangeIndex: 10683 entries, 0 to 10682\n",
            "Data columns (total 11 columns):\n",
            " #   Column           Non-Null Count  Dtype \n",
            "---  ------           --------------  ----- \n",
            " 0   Airline          10683 non-null  object\n",
            " 1   Date_of_Journey  10683 non-null  object\n",
            " 2   Source           10683 non-null  object\n",
            " 3   Destination      10683 non-null  object\n",
            " 4   Route            10682 non-null  object\n",
            " 5   Dep_Time         10683 non-null  object\n",
            " 6   Arrival_Time     10683 non-null  object\n",
            " 7   Duration         10683 non-null  object\n",
            " 8   Total_Stops      10682 non-null  object\n",
            " 9   Additional_Info  10683 non-null  object\n",
            " 10  Price            10683 non-null  int64 \n",
            "dtypes: int64(1), object(10)\n",
            "memory usage: 918.2+ KB\n",
            "None\n"
          ],
          "name": "stdout"
        }
      ]
    },
    {
      "cell_type": "markdown",
      "metadata": {
        "id": "78_YcPz8nPNp"
      },
      "source": [
        "Observation: \n",
        "1. dataset contains one interger, 11 object data types"
      ]
    },
    {
      "cell_type": "code",
      "metadata": {
        "colab": {
          "base_uri": "https://localhost:8080/"
        },
        "id": "UY-4S3Z0nPNq",
        "outputId": "f3e316c4-4681-4fce-9daa-52831b0f050f"
      },
      "source": [
        "df_test.info()"
      ],
      "execution_count": 199,
      "outputs": [
        {
          "output_type": "stream",
          "text": [
            "<class 'pandas.core.frame.DataFrame'>\n",
            "RangeIndex: 2671 entries, 0 to 2670\n",
            "Data columns (total 10 columns):\n",
            " #   Column           Non-Null Count  Dtype \n",
            "---  ------           --------------  ----- \n",
            " 0   Airline          2671 non-null   object\n",
            " 1   Date_of_Journey  2671 non-null   object\n",
            " 2   Source           2671 non-null   object\n",
            " 3   Destination      2671 non-null   object\n",
            " 4   Route            2671 non-null   object\n",
            " 5   Dep_Time         2671 non-null   object\n",
            " 6   Arrival_Time     2671 non-null   object\n",
            " 7   Duration         2671 non-null   object\n",
            " 8   Total_Stops      2671 non-null   object\n",
            " 9   Additional_Info  2671 non-null   object\n",
            "dtypes: object(10)\n",
            "memory usage: 208.8+ KB\n"
          ],
          "name": "stdout"
        }
      ]
    },
    {
      "cell_type": "code",
      "metadata": {
        "colab": {
          "base_uri": "https://localhost:8080/"
        },
        "id": "aCszruGKnPNq",
        "outputId": "533688d6-ffac-4f63-b814-db9386c0f18e"
      },
      "source": [
        "df_train.isnull().sum()"
      ],
      "execution_count": 200,
      "outputs": [
        {
          "output_type": "execute_result",
          "data": {
            "text/plain": [
              "Airline            0\n",
              "Date_of_Journey    0\n",
              "Source             0\n",
              "Destination        0\n",
              "Route              1\n",
              "Dep_Time           0\n",
              "Arrival_Time       0\n",
              "Duration           0\n",
              "Total_Stops        1\n",
              "Additional_Info    0\n",
              "Price              0\n",
              "dtype: int64"
            ]
          },
          "metadata": {
            "tags": []
          },
          "execution_count": 200
        }
      ]
    },
    {
      "cell_type": "markdown",
      "metadata": {
        "id": "YFI_voBBnPNq"
      },
      "source": [
        "Observation:\n",
        "Variables \"Total_Stops ,Route, contians the null values"
      ]
    },
    {
      "cell_type": "code",
      "metadata": {
        "colab": {
          "base_uri": "https://localhost:8080/"
        },
        "id": "UJkjPWSunPNr",
        "outputId": "1481f3e6-80be-4d47-8535-1369b9fee412"
      },
      "source": [
        "df_test.isnull().sum()"
      ],
      "execution_count": 201,
      "outputs": [
        {
          "output_type": "execute_result",
          "data": {
            "text/plain": [
              "Airline            0\n",
              "Date_of_Journey    0\n",
              "Source             0\n",
              "Destination        0\n",
              "Route              0\n",
              "Dep_Time           0\n",
              "Arrival_Time       0\n",
              "Duration           0\n",
              "Total_Stops        0\n",
              "Additional_Info    0\n",
              "dtype: int64"
            ]
          },
          "metadata": {
            "tags": []
          },
          "execution_count": 201
        }
      ]
    },
    {
      "cell_type": "markdown",
      "metadata": {
        "id": "ud7y1RtsnPNr"
      },
      "source": [
        "Obseravtion : Test dataset contains no the null values "
      ]
    },
    {
      "cell_type": "markdown",
      "metadata": {
        "id": "qtu0lgY1nPNr"
      },
      "source": [
        "#### Data preprocessing "
      ]
    },
    {
      "cell_type": "code",
      "metadata": {
        "id": "wFr2PKrXpvYq"
      },
      "source": [
        "#droping the null values(We have only 2 null values so we droping it)\n",
        "df_train.dropna(inplace = True)"
      ],
      "execution_count": 202,
      "outputs": []
    },
    {
      "cell_type": "code",
      "metadata": {
        "id": "oCvnv596sb8m"
      },
      "source": [
        "df_train['Date'] = df_train['Date_of_Journey'].str.split('/').str[0]\n",
        "df_train['Month'] = df_train['Date_of_Journey'].str.split('/').str[1]\n",
        "df_train['Year'] = df_train['Date_of_Journey'].str.split('/').str[2]\n",
        "\n",
        "df_test['Date'] = df_test['Date_of_Journey'].str.split('/').str[0]\n",
        "df_test['Month'] = df_test['Date_of_Journey'].str.split('/').str[1]\n",
        "df_test['Year'] = df_test['Date_of_Journey'].str.split('/').str[2]"
      ],
      "execution_count": 203,
      "outputs": []
    },
    {
      "cell_type": "code",
      "metadata": {
        "id": "rlNhiJcEsb32"
      },
      "source": [
        "# Spliting journey time hour and minutes\n",
        "df_train['Hour'] = df_train['Duration'].str.split(' ').str[0]\n",
        "df_train['Minutes'] = df_train['Duration'].str.split(' ').str[1]\n",
        "\n",
        "df_test['Hour'] = df_test['Duration'].str.split(' ').str[0]\n",
        "df_test['Minutes'] = df_test['Duration'].str.split(' ').str[1]\n"
      ],
      "execution_count": 204,
      "outputs": []
    },
    {
      "cell_type": "code",
      "metadata": {
        "id": "jByRplbJsb0e"
      },
      "source": [
        "# removing  Hour h and minutes m from the columns \n",
        "df_train['Hour'] = df_train['Hour'].str.replace(r'\\D+', '')\n",
        "df_train['Minutes'] = df_train['Minutes'].str.replace(r'\\D+', '')\n",
        "\n",
        "df_test['Hour'] = df_test['Hour'].str.replace(r'\\D+', '')\n",
        "df_test['Minutes'] = df_test['Minutes'].str.replace(r'\\D+', '')"
      ],
      "execution_count": 205,
      "outputs": []
    },
    {
      "cell_type": "code",
      "metadata": {
        "id": "_sQgCwe-yJeA"
      },
      "source": [
        "#filling the missing Minutes with Zero values \n",
        "df_train['Minutes'].fillna(0, inplace=True)\n",
        "df_test['Minutes'].fillna(0, inplace=True)"
      ],
      "execution_count": 206,
      "outputs": []
    },
    {
      "cell_type": "code",
      "metadata": {
        "id": "hN5ydCmLvyU6"
      },
      "source": [
        "# Spliting journey time hour and minutes\n",
        "df_train['Dep_Hour'] = df_train['Dep_Time'].str.split(':').str[0]\n",
        "df_train['Dep_Minutes'] = df_train['Dep_Time'].str.split(':').str[1]\n",
        "\n",
        "df_test['Dep_Hour'] = df_test['Dep_Time'].str.split(':').str[0]\n",
        "df_test['Dep_Minutes'] = df_test['Dep_Time'].str.split(':').str[1]\n"
      ],
      "execution_count": 207,
      "outputs": []
    },
    {
      "cell_type": "code",
      "metadata": {
        "id": "jgmosnrFvyRj"
      },
      "source": [
        ""
      ],
      "execution_count": 207,
      "outputs": []
    },
    {
      "cell_type": "code",
      "metadata": {
        "colab": {
          "base_uri": "https://localhost:8080/",
          "height": 86
        },
        "id": "VLxb9KG60WY7",
        "outputId": "769baf2d-8a65-4224-e3e9-2a450057de4d"
      },
      "source": [
        "\"\"\"df_train['Arrival_Time']=pd.to_datetime(df_train['Arrival_Time'])\n",
        "df_test['Arrival_Time']=pd.to_datetime(df_test['Arrival_Time'])\n",
        "\n",
        "df_train['A_Date'] = df_train['Arrival_Time'].str.split(' ').str[1]\n",
        "df_train['A_time'] = df_train['Arrival_Time'].str.split(' ').str[0]\n",
        "\n",
        "df_test['A_Date'] = df_test['Arrival_Time'].str.split(' ').str[1]\n",
        "df_test['A_time'] = df_test['Arrival_Time'].str.split(' ').str[0]\"\"\""
      ],
      "execution_count": 208,
      "outputs": [
        {
          "output_type": "execute_result",
          "data": {
            "application/vnd.google.colaboratory.intrinsic+json": {
              "type": "string"
            },
            "text/plain": [
              "\"df_train['Arrival_Time']=pd.to_datetime(df_train['Arrival_Time'])\\ndf_test['Arrival_Time']=pd.to_datetime(df_test['Arrival_Time'])\\n\\ndf_train['A_Date'] = df_train['Arrival_Time'].str.split(' ').str[1]\\ndf_train['A_time'] = df_train['Arrival_Time'].str.split(' ').str[0]\\n\\ndf_test['A_Date'] = df_test['Arrival_Time'].str.split(' ').str[1]\\ndf_test['A_time'] = df_test['Arrival_Time'].str.split(' ').str[0]\""
            ]
          },
          "metadata": {
            "tags": []
          },
          "execution_count": 208
        }
      ]
    },
    {
      "cell_type": "code",
      "metadata": {
        "id": "xjzShrIi0NQV"
      },
      "source": [
        "df_train['Date'] = df_train['Date_of_Journey'].str.split('/').str[0]\n",
        "df_train['Month'] = df_train['Date_of_Journey'].str.split('/').str[1]\n",
        "df_train['Year'] = df_train['Date_of_Journey'].str.split('/').str[2]\n",
        "\n",
        "df_test['Date'] = df_test['Date_of_Journey'].str.split('/').str[0]\n",
        "df_test['Month'] = df_test['Date_of_Journey'].str.split('/').str[1]\n",
        "df_test['Year'] = df_test['Date_of_Journey'].str.split('/').str[2]"
      ],
      "execution_count": 209,
      "outputs": []
    },
    {
      "cell_type": "code",
      "metadata": {
        "id": "1bupefYHvxIv"
      },
      "source": [
        "df_train.drop(['Date_of_Journey','Dep_Time','Duration','Arrival_Time'], axis=1, inplace=True)\n",
        "df_test.drop(['Date_of_Journey','Dep_Time','Duration','Arrival_Time'], axis=1, inplace=True)"
      ],
      "execution_count": 210,
      "outputs": []
    },
    {
      "cell_type": "code",
      "metadata": {
        "colab": {
          "base_uri": "https://localhost:8080/",
          "height": 382
        },
        "id": "cTw2hMJM13In",
        "outputId": "17bdbea4-05a6-492b-c7c4-2902d7696781"
      },
      "source": [
        "#Univarient analysis\n",
        "print(df_train['Total_Stops'].value_counts())\n",
        "sns.countplot(df_train['Total_Stops'])\n",
        "plt.show()\n"
      ],
      "execution_count": 211,
      "outputs": [
        {
          "output_type": "stream",
          "text": [
            "1 stop      5625\n",
            "non-stop    3491\n",
            "2 stops     1520\n",
            "3 stops       45\n",
            "4 stops        1\n",
            "Name: Total_Stops, dtype: int64\n"
          ],
          "name": "stdout"
        },
        {
          "output_type": "display_data",
          "data": {
            "image/png": "[encoded data removed]",
            "text/plain": [
              "<Figure size 432x288 with 1 Axes>"
            ]
          },
          "metadata": {
            "tags": [],
            "needs_background": "light"
          }
        }
      ]
    },
    {
      "cell_type": "markdown",
      "metadata": {
        "id": "JaYiEcn_3SV8"
      },
      "source": [
        "Observation: Highest number of flights have single stops "
      ]
    },
    {
      "cell_type": "code",
      "metadata": {
        "colab": {
          "base_uri": "https://localhost:8080/",
          "height": 398
        },
        "id": "__pa850p13E-",
        "outputId": "2b9c9f92-61ed-4c5a-e281-08904a5556e6"
      },
      "source": [
        "#Univarient analysis\n",
        "print(df_train['Destination'].value_counts())\n",
        "sns.countplot(df_train['Destination'])\n",
        "plt.show()\n"
      ],
      "execution_count": 212,
      "outputs": [
        {
          "output_type": "stream",
          "text": [
            "Cochin       4536\n",
            "Banglore     2871\n",
            "Delhi        1265\n",
            "New Delhi     932\n",
            "Hyderabad     697\n",
            "Kolkata       381\n",
            "Name: Destination, dtype: int64\n"
          ],
          "name": "stdout"
        },
        {
          "output_type": "display_data",
          "data": {
            "image/png": "[encoded data removed]",
            "text/plain": [
              "<Figure size 432x288 with 1 Axes>"
            ]
          },
          "metadata": {
            "tags": [],
            "needs_background": "light"
          }
        }
      ]
    },
    {
      "cell_type": "markdown",
      "metadata": {
        "id": "QpBlrnfR3zvz"
      },
      "source": [
        "Observation: Cochin have highest number of destination flights "
      ]
    },
    {
      "cell_type": "code",
      "metadata": {
        "colab": {
          "base_uri": "https://localhost:8080/",
          "height": 489
        },
        "id": "vC_Ho8yh13Cl",
        "outputId": "7555257f-9f45-4ca0-9120-3a9243532a48"
      },
      "source": [
        "#Univarient analysis\n",
        "fig=plt.figure(figsize=(18,4))\n",
        "print(df_train['Airline'].value_counts())\n",
        "sns.countplot(df_train['Airline'])\n",
        "plt.show()\n"
      ],
      "execution_count": 213,
      "outputs": [
        {
          "output_type": "stream",
          "text": [
            "Jet Airways                          3849\n",
            "IndiGo                               2053\n",
            "Air India                            1751\n",
            "Multiple carriers                    1196\n",
            "SpiceJet                              818\n",
            "Vistara                               479\n",
            "Air Asia                              319\n",
            "GoAir                                 194\n",
            "Multiple carriers Premium economy      13\n",
            "Jet Airways Business                    6\n",
            "Vistara Premium economy                 3\n",
            "Trujet                                  1\n",
            "Name: Airline, dtype: int64\n"
          ],
          "name": "stdout"
        },
        {
          "output_type": "display_data",
          "data": {
            "image/png": "[encoded data removed]",
            "text/plain": [
              "<Figure size 1296x288 with 1 Axes>"
            ]
          },
          "metadata": {
            "tags": [],
            "needs_background": "light"
          }
        }
      ]
    },
    {
      "cell_type": "code",
      "metadata": {
        "colab": {
          "base_uri": "https://localhost:8080/",
          "height": 282
        },
        "id": "Gu8nNC4G12_b",
        "outputId": "5c3d572a-facc-48bc-ceba-7e24c60bbbc2"
      },
      "source": [
        "df_train['Additional_Info'].value_counts(normalize=True)[:20].plot(kind='barh')"
      ],
      "execution_count": 217,
      "outputs": [
        {
          "output_type": "execute_result",
          "data": {
            "text/plain": [
              "<matplotlib.axes._subplots.AxesSubplot at 0x7f7e4380fcd0>"
            ]
          },
          "metadata": {
            "tags": []
          },
          "execution_count": 217
        },
        {
          "output_type": "display_data",
          "data": {
            "image/png": "[encoded data removed]",
            "text/plain": [
              "<Figure size 432x288 with 1 Axes>"
            ]
          },
          "metadata": {
            "tags": [],
            "needs_background": "light"
          }
        }
      ]
    },
    {
      "cell_type": "code",
      "metadata": {
        "colab": {
          "base_uri": "https://localhost:8080/"
        },
        "id": "qaJ2kmfP128s",
        "outputId": "430ff711-6892-4abd-ae3b-9b665efafb51"
      },
      "source": [
        "df_train['Destination'].unique()"
      ],
      "execution_count": 218,
      "outputs": [
        {
          "output_type": "execute_result",
          "data": {
            "text/plain": [
              "array(['New Delhi', 'Banglore', 'Cochin', 'Kolkata', 'Delhi', 'Hyderabad'],\n",
              "      dtype=object)"
            ]
          },
          "metadata": {
            "tags": []
          },
          "execution_count": 218
        }
      ]
    },
    {
      "cell_type": "code",
      "metadata": {
        "colab": {
          "base_uri": "https://localhost:8080/"
        },
        "id": "yH79ruyo12u2",
        "outputId": "37cd987f-5f07-4e67-e498-20a77e84f330"
      },
      "source": [
        "df_train['Airline'].unique()"
      ],
      "execution_count": 219,
      "outputs": [
        {
          "output_type": "execute_result",
          "data": {
            "text/plain": [
              "array(['IndiGo', 'Air India', 'Jet Airways', 'SpiceJet',\n",
              "       'Multiple carriers', 'GoAir', 'Vistara', 'Air Asia',\n",
              "       'Vistara Premium economy', 'Jet Airways Business',\n",
              "       'Multiple carriers Premium economy', 'Trujet'], dtype=object)"
            ]
          },
          "metadata": {
            "tags": []
          },
          "execution_count": 219
        }
      ]
    },
    {
      "cell_type": "code",
      "metadata": {
        "colab": {
          "base_uri": "https://localhost:8080/",
          "height": 80
        },
        "id": "lRV_YNik5N2s",
        "outputId": "682490d6-13b1-428c-b4d1-d67508ad4393"
      },
      "source": [
        "df_train.describe().T"
      ],
      "execution_count": 220,
      "outputs": [
        {
          "output_type": "execute_result",
          "data": {
            "text/html": [
              "<div>\n",
              "<style scoped>\n",
              "    .dataframe tbody tr th:only-of-type {\n",
              "        vertical-align: middle;\n",
              "    }\n",
              "\n",
              "    .dataframe tbody tr th {\n",
              "        vertical-align: top;\n",
              "    }\n",
              "\n",
              "    .dataframe thead th {\n",
              "        text-align: right;\n",
              "    }\n",
              "</style>\n",
              "<table border=\"1\" class=\"dataframe\">\n",
              "  <thead>\n",
              "    <tr style=\"text-align: right;\">\n",
              "      <th></th>\n",
              "      <th>count</th>\n",
              "      <th>mean</th>\n",
              "      <th>std</th>\n",
              "      <th>min</th>\n",
              "      <th>25%</th>\n",
              "      <th>50%</th>\n",
              "      <th>75%</th>\n",
              "      <th>max</th>\n",
              "    </tr>\n",
              "  </thead>\n",
              "  <tbody>\n",
              "    <tr>\n",
              "      <th>Price</th>\n",
              "      <td>10682.0</td>\n",
              "      <td>9087.214567</td>\n",
              "      <td>4611.54881</td>\n",
              "      <td>1759.0</td>\n",
              "      <td>5277.0</td>\n",
              "      <td>8372.0</td>\n",
              "      <td>12373.0</td>\n",
              "      <td>79512.0</td>\n",
              "    </tr>\n",
              "  </tbody>\n",
              "</table>\n",
              "</div>"
            ],
            "text/plain": [
              "         count         mean         std  ...     50%      75%      max\n",
              "Price  10682.0  9087.214567  4611.54881  ...  8372.0  12373.0  79512.0\n",
              "\n",
              "[1 rows x 8 columns]"
            ]
          },
          "metadata": {
            "tags": []
          },
          "execution_count": 220
        }
      ]
    },
    {
      "cell_type": "markdown",
      "metadata": {
        "id": "I9xYaa2v6YwR"
      },
      "source": [
        "Observation: Mean is greater then mode"
      ]
    },
    {
      "cell_type": "code",
      "metadata": {
        "colab": {
          "base_uri": "https://localhost:8080/",
          "height": 265
        },
        "id": "nkmYsjCx6u5-",
        "outputId": "9fa965a9-793c-4fa9-b37d-bde7c77de7b8"
      },
      "source": [
        "# Multivarient analysis\n",
        "plt.scatter(df_train[\"Price\"], df_train[\"Hour\"], color = \"b\", s = 65)\n",
        "plt.show()"
      ],
      "execution_count": 221,
      "outputs": [
        {
          "output_type": "display_data",
          "data": {
            "image/png": "[encoded data removed]",
            "text/plain": [
              "<Figure size 432x288 with 1 Axes>"
            ]
          },
          "metadata": {
            "tags": [],
            "needs_background": "light"
          }
        }
      ]
    },
    {
      "cell_type": "code",
      "metadata": {
        "colab": {
          "base_uri": "https://localhost:8080/",
          "height": 279
        },
        "id": "CTbQuTyG7TKC",
        "outputId": "eaaa4d95-bacc-475d-cc9f-e5a175a7f937"
      },
      "source": [
        "sns.distplot(df_train['Price'])\n",
        "plt.show()"
      ],
      "execution_count": 222,
      "outputs": [
        {
          "output_type": "display_data",
          "data": {
            "image/png": "[encoded data removed]",
            "text/plain": [
              "<Figure size 432x288 with 1 Axes>"
            ]
          },
          "metadata": {
            "tags": [],
            "needs_background": "light"
          }
        }
      ]
    },
    {
      "cell_type": "markdown",
      "metadata": {
        "id": "B6BumKKs70wG"
      },
      "source": [
        "OBservation: Price of the flights ticket right skewed "
      ]
    },
    {
      "cell_type": "code",
      "metadata": {
        "colab": {
          "base_uri": "https://localhost:8080/",
          "height": 279
        },
        "id": "fzQWE0au7TG7",
        "outputId": "a5655f11-d327-4419-de7c-7be79b09e8ac"
      },
      "source": [
        "sns.boxplot(df_train['Price'])\n",
        "plt.show()"
      ],
      "execution_count": 223,
      "outputs": [
        {
          "output_type": "display_data",
          "data": {
            "image/png": "[encoded data removed]",
            "text/plain": [
              "<Figure size 432x288 with 1 Axes>"
            ]
          },
          "metadata": {
            "tags": [],
            "needs_background": "light"
          }
        }
      ]
    },
    {
      "cell_type": "markdown",
      "metadata": {
        "id": "QeahzdrYMjkJ"
      },
      "source": [
        "We See clearly some of the outlier in the target variables "
      ]
    },
    {
      "cell_type": "code",
      "metadata": {
        "id": "GP6q1Vwcsbxr"
      },
      "source": [
        ""
      ],
      "execution_count": 223,
      "outputs": []
    },
    {
      "cell_type": "code",
      "metadata": {
        "id": "helkQk0TnPNz"
      },
      "source": [
        " #Encoding the Cateogorical variables \n",
        "#label encoding \n",
        "from sklearn.preprocessing import LabelEncoder \n",
        "le = LabelEncoder()\n",
        "\n",
        "\n",
        "df_train['Airline'] = le.fit_transform(df_train['Airline'])\n",
        "df_train['Source'] = le.fit_transform(df_train['Source'])\n",
        "df_train['Destination'] = le.fit_transform(df_train['Destination'])\n",
        "df_train['Route'] = le.fit_transform(df_train['Route'])\n",
        "df_train['Total_Stops'] = le.fit_transform(df_train['Total_Stops'])\n",
        "df_train['Additional_Info'] = le.fit_transform(df_train['Additional_Info'])\n",
        "\n",
        "\n",
        "\n",
        "df_test['Airline'] = le.fit_transform(df_test['Airline'])\n",
        "df_test['Source'] = le.fit_transform(df_test['Source'])\n",
        "df_test['Destination'] = le.fit_transform(df_test['Destination'])\n",
        "df_test['Route'] = le.fit_transform(df_test['Route'])\n",
        "df_test['Total_Stops'] = le.fit_transform(df_test['Total_Stops'])\n",
        "df_test['Additional_Info'] = le.fit_transform(df_test['Additional_Info'])\n"
      ],
      "execution_count": 224,
      "outputs": []
    },
    {
      "cell_type": "code",
      "metadata": {
        "colab": {
          "base_uri": "https://localhost:8080/",
          "height": 204
        },
        "id": "evKT6vvjQFy8",
        "outputId": "313256ad-27d3-48ae-eeb7-83a365dd00f3"
      },
      "source": [
        "df_test.head()"
      ],
      "execution_count": 225,
      "outputs": [
        {
          "output_type": "execute_result",
          "data": {
            "text/html": [
              "<div>\n",
              "<style scoped>\n",
              "    .dataframe tbody tr th:only-of-type {\n",
              "        vertical-align: middle;\n",
              "    }\n",
              "\n",
              "    .dataframe tbody tr th {\n",
              "        vertical-align: top;\n",
              "    }\n",
              "\n",
              "    .dataframe thead th {\n",
              "        text-align: right;\n",
              "    }\n",
              "</style>\n",
              "<table border=\"1\" class=\"dataframe\">\n",
              "  <thead>\n",
              "    <tr style=\"text-align: right;\">\n",
              "      <th></th>\n",
              "      <th>Airline</th>\n",
              "      <th>Source</th>\n",
              "      <th>Destination</th>\n",
              "      <th>Route</th>\n",
              "      <th>Total_Stops</th>\n",
              "      <th>Additional_Info</th>\n",
              "      <th>Date</th>\n",
              "      <th>Month</th>\n",
              "      <th>Year</th>\n",
              "      <th>Hour</th>\n",
              "      <th>Minutes</th>\n",
              "      <th>Dep_Hour</th>\n",
              "      <th>Dep_Minutes</th>\n",
              "    </tr>\n",
              "  </thead>\n",
              "  <tbody>\n",
              "    <tr>\n",
              "      <th>0</th>\n",
              "      <td>4</td>\n",
              "      <td>2</td>\n",
              "      <td>1</td>\n",
              "      <td>76</td>\n",
              "      <td>0</td>\n",
              "      <td>5</td>\n",
              "      <td>6</td>\n",
              "      <td>06</td>\n",
              "      <td>2019</td>\n",
              "      <td>10</td>\n",
              "      <td>55</td>\n",
              "      <td>17</td>\n",
              "      <td>30</td>\n",
              "    </tr>\n",
              "    <tr>\n",
              "      <th>1</th>\n",
              "      <td>3</td>\n",
              "      <td>3</td>\n",
              "      <td>0</td>\n",
              "      <td>65</td>\n",
              "      <td>0</td>\n",
              "      <td>5</td>\n",
              "      <td>12</td>\n",
              "      <td>05</td>\n",
              "      <td>2019</td>\n",
              "      <td>4</td>\n",
              "      <td>0</td>\n",
              "      <td>06</td>\n",
              "      <td>20</td>\n",
              "    </tr>\n",
              "    <tr>\n",
              "      <th>2</th>\n",
              "      <td>4</td>\n",
              "      <td>2</td>\n",
              "      <td>1</td>\n",
              "      <td>76</td>\n",
              "      <td>0</td>\n",
              "      <td>3</td>\n",
              "      <td>21</td>\n",
              "      <td>05</td>\n",
              "      <td>2019</td>\n",
              "      <td>23</td>\n",
              "      <td>45</td>\n",
              "      <td>19</td>\n",
              "      <td>15</td>\n",
              "    </tr>\n",
              "    <tr>\n",
              "      <th>3</th>\n",
              "      <td>6</td>\n",
              "      <td>2</td>\n",
              "      <td>1</td>\n",
              "      <td>76</td>\n",
              "      <td>0</td>\n",
              "      <td>5</td>\n",
              "      <td>21</td>\n",
              "      <td>05</td>\n",
              "      <td>2019</td>\n",
              "      <td>13</td>\n",
              "      <td>0</td>\n",
              "      <td>08</td>\n",
              "      <td>00</td>\n",
              "    </tr>\n",
              "    <tr>\n",
              "      <th>4</th>\n",
              "      <td>0</td>\n",
              "      <td>0</td>\n",
              "      <td>2</td>\n",
              "      <td>16</td>\n",
              "      <td>4</td>\n",
              "      <td>5</td>\n",
              "      <td>24</td>\n",
              "      <td>06</td>\n",
              "      <td>2019</td>\n",
              "      <td>2</td>\n",
              "      <td>50</td>\n",
              "      <td>23</td>\n",
              "      <td>55</td>\n",
              "    </tr>\n",
              "  </tbody>\n",
              "</table>\n",
              "</div>"
            ],
            "text/plain": [
              "   Airline  Source  Destination  Route  ...  Hour  Minutes Dep_Hour Dep_Minutes\n",
              "0        4       2            1     76  ...    10       55       17          30\n",
              "1        3       3            0     65  ...     4        0       06          20\n",
              "2        4       2            1     76  ...    23       45       19          15\n",
              "3        6       2            1     76  ...    13        0       08          00\n",
              "4        0       0            2     16  ...     2       50       23          55\n",
              "\n",
              "[5 rows x 13 columns]"
            ]
          },
          "metadata": {
            "tags": []
          },
          "execution_count": 225
        }
      ]
    },
    {
      "cell_type": "code",
      "metadata": {
        "colab": {
          "base_uri": "https://localhost:8080/",
          "height": 551
        },
        "id": "Giy62cLh80os",
        "outputId": "ab4c4920-5fca-4d3f-e1a3-eef49fa07001"
      },
      "source": [
        "#To check the corr_mat  Heatmap\n",
        "corr_hmap=df_train.corr()\n",
        "plt.figure(figsize=(10,8))\n",
        "sns.heatmap(corr_hmap, annot=True)\n",
        "plt.show()"
      ],
      "execution_count": 226,
      "outputs": [
        {
          "output_type": "display_data",
          "data": {
            "image/png": "[encoded data removed]",
            "text/plain": [
              "<Figure size 720x576 with 2 Axes>"
            ]
          },
          "metadata": {
            "tags": [],
            "needs_background": "light"
          }
        }
      ]
    },
    {
      "cell_type": "markdown",
      "metadata": {
        "id": "Ypcs--JjC2IB"
      },
      "source": [
        "OBservation : We clearly serr that only two variables have positive relation with route, source\n",
        "\n",
        "Destination have positve corelation with total stops"
      ]
    },
    {
      "cell_type": "code",
      "metadata": {
        "id": "WX38UW6anPNz"
      },
      "source": [
        "\n",
        "#Spliting the data into Feature variables (X) and target variables (y)\n",
        "x = df_train.drop(['Price'],axis=1)\n",
        "y = df_train['Price']"
      ],
      "execution_count": 227,
      "outputs": []
    },
    {
      "cell_type": "code",
      "metadata": {
        "colab": {
          "base_uri": "https://localhost:8080/",
          "height": 204
        },
        "id": "HGQS3mfTnPNz",
        "outputId": "b792f9d1-41d1-4557-baed-050eb78c4584"
      },
      "source": [
        "df_train.head()"
      ],
      "execution_count": 228,
      "outputs": [
        {
          "output_type": "execute_result",
          "data": {
            "text/html": [
              "<div>\n",
              "<style scoped>\n",
              "    .dataframe tbody tr th:only-of-type {\n",
              "        vertical-align: middle;\n",
              "    }\n",
              "\n",
              "    .dataframe tbody tr th {\n",
              "        vertical-align: top;\n",
              "    }\n",
              "\n",
              "    .dataframe thead th {\n",
              "        text-align: right;\n",
              "    }\n",
              "</style>\n",
              "<table border=\"1\" class=\"dataframe\">\n",
              "  <thead>\n",
              "    <tr style=\"text-align: right;\">\n",
              "      <th></th>\n",
              "      <th>Airline</th>\n",
              "      <th>Source</th>\n",
              "      <th>Destination</th>\n",
              "      <th>Route</th>\n",
              "      <th>Total_Stops</th>\n",
              "      <th>Additional_Info</th>\n",
              "      <th>Price</th>\n",
              "      <th>Date</th>\n",
              "      <th>Month</th>\n",
              "      <th>Year</th>\n",
              "      <th>Hour</th>\n",
              "      <th>Minutes</th>\n",
              "      <th>Dep_Hour</th>\n",
              "      <th>Dep_Minutes</th>\n",
              "    </tr>\n",
              "  </thead>\n",
              "  <tbody>\n",
              "    <tr>\n",
              "      <th>0</th>\n",
              "      <td>3</td>\n",
              "      <td>0</td>\n",
              "      <td>5</td>\n",
              "      <td>18</td>\n",
              "      <td>4</td>\n",
              "      <td>8</td>\n",
              "      <td>3897</td>\n",
              "      <td>24</td>\n",
              "      <td>03</td>\n",
              "      <td>2019</td>\n",
              "      <td>2</td>\n",
              "      <td>50</td>\n",
              "      <td>22</td>\n",
              "      <td>20</td>\n",
              "    </tr>\n",
              "    <tr>\n",
              "      <th>1</th>\n",
              "      <td>1</td>\n",
              "      <td>3</td>\n",
              "      <td>0</td>\n",
              "      <td>84</td>\n",
              "      <td>1</td>\n",
              "      <td>8</td>\n",
              "      <td>7662</td>\n",
              "      <td>1</td>\n",
              "      <td>05</td>\n",
              "      <td>2019</td>\n",
              "      <td>7</td>\n",
              "      <td>25</td>\n",
              "      <td>05</td>\n",
              "      <td>50</td>\n",
              "    </tr>\n",
              "    <tr>\n",
              "      <th>2</th>\n",
              "      <td>4</td>\n",
              "      <td>2</td>\n",
              "      <td>1</td>\n",
              "      <td>118</td>\n",
              "      <td>1</td>\n",
              "      <td>8</td>\n",
              "      <td>13882</td>\n",
              "      <td>9</td>\n",
              "      <td>06</td>\n",
              "      <td>2019</td>\n",
              "      <td>19</td>\n",
              "      <td>0</td>\n",
              "      <td>09</td>\n",
              "      <td>25</td>\n",
              "    </tr>\n",
              "    <tr>\n",
              "      <th>3</th>\n",
              "      <td>3</td>\n",
              "      <td>3</td>\n",
              "      <td>0</td>\n",
              "      <td>91</td>\n",
              "      <td>0</td>\n",
              "      <td>8</td>\n",
              "      <td>6218</td>\n",
              "      <td>12</td>\n",
              "      <td>05</td>\n",
              "      <td>2019</td>\n",
              "      <td>5</td>\n",
              "      <td>25</td>\n",
              "      <td>18</td>\n",
              "      <td>05</td>\n",
              "    </tr>\n",
              "    <tr>\n",
              "      <th>4</th>\n",
              "      <td>3</td>\n",
              "      <td>0</td>\n",
              "      <td>5</td>\n",
              "      <td>29</td>\n",
              "      <td>0</td>\n",
              "      <td>8</td>\n",
              "      <td>13302</td>\n",
              "      <td>01</td>\n",
              "      <td>03</td>\n",
              "      <td>2019</td>\n",
              "      <td>4</td>\n",
              "      <td>45</td>\n",
              "      <td>16</td>\n",
              "      <td>50</td>\n",
              "    </tr>\n",
              "  </tbody>\n",
              "</table>\n",
              "</div>"
            ],
            "text/plain": [
              "   Airline  Source  Destination  Route  ...  Hour  Minutes  Dep_Hour Dep_Minutes\n",
              "0        3       0            5     18  ...     2       50        22          20\n",
              "1        1       3            0     84  ...     7       25        05          50\n",
              "2        4       2            1    118  ...    19        0        09          25\n",
              "3        3       3            0     91  ...     5       25        18          05\n",
              "4        3       0            5     29  ...     4       45        16          50\n",
              "\n",
              "[5 rows x 14 columns]"
            ]
          },
          "metadata": {
            "tags": []
          },
          "execution_count": 228
        }
      ]
    },
    {
      "cell_type": "code",
      "metadata": {
        "id": "mrsEN9PRnPN0"
      },
      "source": [
        ""
      ],
      "execution_count": 228,
      "outputs": []
    },
    {
      "cell_type": "markdown",
      "metadata": {
        "id": "jBn1gagHnPN5"
      },
      "source": [
        "#### Spliting the data into train_test_split"
      ]
    },
    {
      "cell_type": "code",
      "metadata": {
        "id": "1aWTy4plnPN5"
      },
      "source": [
        "x_train,x_test,y_train,y_test = train_test_split(x,y,test_size=0.2,random_state=40)"
      ],
      "execution_count": 229,
      "outputs": []
    },
    {
      "cell_type": "markdown",
      "metadata": {
        "id": "AN5kn89ZnPN5"
      },
      "source": [
        "#### Building  Model"
      ]
    },
    {
      "cell_type": "code",
      "metadata": {
        "colab": {
          "base_uri": "https://localhost:8080/"
        },
        "id": "Klji1FNhnPN5",
        "outputId": "66d89273-0ef4-49f0-9864-63b49afaa490"
      },
      "source": [
        "#importing the libraries \n",
        "from sklearn.linear_model import LinearRegression\n",
        "Regressor = LinearRegression()\n",
        "Regressor.fit(x_train, y_train)\n",
        "y_pred = Regressor.predict(x_test)\n",
        "\n",
        "r_sq = Regressor.score(x, y)\n",
        "print('coefficient of determination:', r_sq)\n",
        "print('intercept:', Regressor.intercept_)\n",
        "print('coefficients:', Regressor.coef_)"
      ],
      "execution_count": 230,
      "outputs": [
        {
          "output_type": "stream",
          "text": [
            "coefficient of determination: 0.4206085199201172\n",
            "intercept: 10354.24861729909\n",
            "coefficients: [ 6.77705118e+01 -2.86868222e+02  1.85870457e+02 -4.44679333e+00\n",
            " -1.16264207e+03  2.26064252e+02 -7.20899526e+01 -3.11768599e+02\n",
            "  2.27373675e-13  1.54491208e+02 -9.39220327e+00  2.50994912e+01\n",
            " -2.61493026e+00]\n"
          ],
          "name": "stdout"
        }
      ]
    },
    {
      "cell_type": "code",
      "metadata": {
        "colab": {
          "base_uri": "https://localhost:8080/"
        },
        "id": "wd05umBhE3dy",
        "outputId": "645511a1-59bd-4ba8-84c8-bc87d748085e"
      },
      "source": [
        "Model = []\n",
        "MMSE=[]\n",
        "MSE=[]\n",
        "RMSE=[]\n",
        "R_Square=[]\n",
        "\n",
        "\n",
        "# calculate MAE, MSE, RMSE\n",
        "print(\"MAE  : \",metrics.mean_absolute_error(y_test, y_pred))\n",
        "print(\"MSE  : \", metrics.mean_squared_error(y_test, y_pred))\n",
        "print(\"RMSE : \", np.sqrt(metrics.mean_squared_error(y_test, y_pred)))\n",
        "\n",
        "Model.append('Linear Regression')\n",
        "R_Square.append(r_sq)\n",
        "r_sq = Regressor.score(x, y)\n",
        "MMSE.append(metrics.mean_absolute_error(y_test, y_pred))\n",
        "MSE.append(metrics.mean_squared_error(y_test, y_pred))\n",
        "RMSE.append(np.sqrt(metrics.mean_squared_error(y_test, y_pred)))"
      ],
      "execution_count": 231,
      "outputs": [
        {
          "output_type": "stream",
          "text": [
            "MAE  :  2553.953170510764\n",
            "MSE  :  13784936.137346044\n",
            "RMSE :  3712.80704283781\n"
          ],
          "name": "stdout"
        }
      ]
    },
    {
      "cell_type": "code",
      "metadata": {
        "colab": {
          "base_uri": "https://localhost:8080/"
        },
        "id": "EWypfydeE3ab",
        "outputId": "501de72c-6f6b-4ccd-8f18-274ffafeb528"
      },
      "source": [
        "#Decision Tree model \n",
        "from sklearn.tree import DecisionTreeRegressor\n",
        "\n",
        "model = DecisionTreeRegressor()\n",
        "model.fit(x_train, y_train)\n",
        "# make a prediction\n",
        "yhat = model.predict(x_test)\n",
        "# summarize prediction\n",
        "print(yhat)"
      ],
      "execution_count": 232,
      "outputs": [
        {
          "output_type": "stream",
          "text": [
            "[ 4784.          4392.          5380.         ... 11507.\n",
            " 14781.          7546.33333333]\n"
          ],
          "name": "stdout"
        }
      ]
    },
    {
      "cell_type": "code",
      "metadata": {
        "colab": {
          "base_uri": "https://localhost:8080/"
        },
        "id": "zDIUtyjdE3Po",
        "outputId": "7f11208e-4aa5-4391-f9f5-d79375004a81"
      },
      "source": [
        "\n",
        "# calculate MAE, MSE, RMSE\n",
        "print(\"MAE  : \",metrics.mean_absolute_error(y_test, yhat))\n",
        "print(\"MSE  : \", metrics.mean_squared_error(y_test, yhat))\n",
        "print(\"RMSE : \", np.sqrt(metrics.mean_squared_error(y_test, yhat)))\n",
        "\n",
        "Model.append('DecisionTreeRegressor')\n",
        "R_Square.append(r_sq)\n",
        "MMSE.append(metrics.mean_absolute_error(y_test, yhat))\n",
        "MSE.append(metrics.mean_squared_error(y_test, yhat))\n",
        "RMSE.append(np.sqrt(metrics.mean_squared_error(y_test, yhat)))"
      ],
      "execution_count": 233,
      "outputs": [
        {
          "output_type": "stream",
          "text": [
            "MAE  :  723.6866323506473\n",
            "MSE  :  4771011.350283367\n",
            "RMSE :  2184.264487255004\n"
          ],
          "name": "stdout"
        }
      ]
    },
    {
      "cell_type": "code",
      "metadata": {
        "colab": {
          "base_uri": "https://localhost:8080/"
        },
        "id": "r8XuOBBvF3CV",
        "outputId": "e19124e1-9cf8-42e5-e9e7-2dcd87428b64"
      },
      "source": [
        "# SVM model \n",
        "from sklearn.svm import LinearSVR\n",
        "model_SVR = LinearSVR()\n",
        "\n",
        "model_SVR.fit(x_train, y_train)\n",
        "yhat_SVR = model_SVR.predict(x_test)\n",
        "\n",
        "print('Predicted: %s' % yhat_SVR)\n",
        "\n",
        "Model.append('SVRRegressor')\n",
        "R_Square.append(r_sq)\n",
        "MMSE.append(metrics.mean_absolute_error(y_test, yhat_SVR))\n",
        "MSE.append(metrics.mean_squared_error(y_test, yhat_SVR))\n",
        "RMSE.append(np.sqrt(metrics.mean_squared_error(y_test, yhat_SVR)))"
      ],
      "execution_count": 234,
      "outputs": [
        {
          "output_type": "stream",
          "text": [
            "Predicted: [ 6317.89627516  5031.81705944 10717.60577925 ...  9041.06943065\n",
            "  9846.95545005  6387.30255062]\n"
          ],
          "name": "stdout"
        }
      ]
    },
    {
      "cell_type": "code",
      "metadata": {
        "colab": {
          "base_uri": "https://localhost:8080/"
        },
        "id": "UGWajx8zG97T",
        "outputId": "abe1c128-d383-44da-c65c-daa4e9a07027"
      },
      "source": [
        "from sklearn.ensemble import RandomForestRegressor\n",
        "RFR = RandomForestRegressor(n_estimators = 10, random_state = 0)\n",
        "RFR.fit(x_train, y_train)\n",
        "y_predRFR =RFR.predict(x_test)\n",
        "\n",
        "\n",
        "# calculate MAE, MSE, RMSE\n",
        "print(\"MAE  : \",metrics.mean_absolute_error(y_test, y_predRFR))\n",
        "print(\"MSE  : \", metrics.mean_squared_error(y_test, y_predRFR))\n",
        "print(\"RMSE : \", np.sqrt(metrics.mean_squared_error(y_test, y_predRFR)))\n",
        "\n",
        "Model.append('RandomForestRegressor')\n",
        "R_Square.append(r_sq)\n",
        "MMSE.append(metrics.mean_absolute_error(y_test, y_predRFR))\n",
        "MSE.append(metrics.mean_squared_error(y_test, y_predRFR))\n",
        "RMSE.append(np.sqrt(metrics.mean_squared_error(y_test, y_predRFR)))\n"
      ],
      "execution_count": 235,
      "outputs": [
        {
          "output_type": "stream",
          "text": [
            "MAE  :  673.5031640929652\n",
            "MSE  :  2161252.152291485\n",
            "RMSE :  1470.1197748113877\n"
          ],
          "name": "stdout"
        }
      ]
    },
    {
      "cell_type": "code",
      "metadata": {
        "colab": {
          "base_uri": "https://localhost:8080/",
          "height": 173
        },
        "id": "TV87gDYQF2_d",
        "outputId": "c6eefca3-7c97-4aeb-a451-e5a2e1722954"
      },
      "source": [
        "AccuracyTable=pd.DataFrame({'Model':Model,\n",
        "                        'MMSE':MMSE,\n",
        "                        'MSE': MSE, \n",
        "                        'RMSE': RMSE,\n",
        "                      \n",
        "                       })\n",
        "AccuracyTable"
      ],
      "execution_count": 236,
      "outputs": [
        {
          "output_type": "execute_result",
          "data": {
            "text/html": [
              "<div>\n",
              "<style scoped>\n",
              "    .dataframe tbody tr th:only-of-type {\n",
              "        vertical-align: middle;\n",
              "    }\n",
              "\n",
              "    .dataframe tbody tr th {\n",
              "        vertical-align: top;\n",
              "    }\n",
              "\n",
              "    .dataframe thead th {\n",
              "        text-align: right;\n",
              "    }\n",
              "</style>\n",
              "<table border=\"1\" class=\"dataframe\">\n",
              "  <thead>\n",
              "    <tr style=\"text-align: right;\">\n",
              "      <th></th>\n",
              "      <th>Model</th>\n",
              "      <th>MMSE</th>\n",
              "      <th>MSE</th>\n",
              "      <th>RMSE</th>\n",
              "    </tr>\n",
              "  </thead>\n",
              "  <tbody>\n",
              "    <tr>\n",
              "      <th>0</th>\n",
              "      <td>Linear Regression</td>\n",
              "      <td>2553.953171</td>\n",
              "      <td>1.378494e+07</td>\n",
              "      <td>3712.807043</td>\n",
              "    </tr>\n",
              "    <tr>\n",
              "      <th>1</th>\n",
              "      <td>DecisionTreeRegressor</td>\n",
              "      <td>723.686632</td>\n",
              "      <td>4.771011e+06</td>\n",
              "      <td>2184.264487</td>\n",
              "    </tr>\n",
              "    <tr>\n",
              "      <th>2</th>\n",
              "      <td>SVRRegressor</td>\n",
              "      <td>2710.060781</td>\n",
              "      <td>1.495549e+07</td>\n",
              "      <td>3867.232343</td>\n",
              "    </tr>\n",
              "    <tr>\n",
              "      <th>3</th>\n",
              "      <td>RandomForestRegressor</td>\n",
              "      <td>673.503164</td>\n",
              "      <td>2.161252e+06</td>\n",
              "      <td>1470.119775</td>\n",
              "    </tr>\n",
              "  </tbody>\n",
              "</table>\n",
              "</div>"
            ],
            "text/plain": [
              "                   Model         MMSE           MSE         RMSE\n",
              "0      Linear Regression  2553.953171  1.378494e+07  3712.807043\n",
              "1  DecisionTreeRegressor   723.686632  4.771011e+06  2184.264487\n",
              "2           SVRRegressor  2710.060781  1.495549e+07  3867.232343\n",
              "3  RandomForestRegressor   673.503164  2.161252e+06  1470.119775"
            ]
          },
          "metadata": {
            "tags": []
          },
          "execution_count": 236
        }
      ]
    },
    {
      "cell_type": "code",
      "metadata": {
        "id": "GeZ4d1IXOiFO"
      },
      "source": [
        "pd.DataFrame(Regressor.predict(df_test), columns = ['Price']).to_excel(\"Regressor.xlsx\", index = True)"
      ],
      "execution_count": 238,
      "outputs": []
    },
    {
      "cell_type": "markdown",
      "metadata": {
        "id": "c9vQrvVFnPN8"
      },
      "source": [
        "#### Saving the Model----\n"
      ]
    },
    {
      "cell_type": "code",
      "metadata": {
        "id": "-Esf0XVGnPN8"
      },
      "source": [
        "from sklearn.externals import joblib\n",
        "\n",
        "# Save the model as a pickle in a file\n",
        "joblib.dump(Regressor, 'Regressor.pkl')\n",
        "  \n",
        "# Load the model from the file\n",
        "Regressor_joblib = joblib.load('Regressor.pkl') \n",
        "  \n",
        "# Use the loaded model to make predictions\n",
        "#Regressor_joblib.predict(x_test)"
      ],
      "execution_count": 192,
      "outputs": []
    },
    {
      "cell_type": "code",
      "metadata": {
        "id": "l5FazwlRnPN8"
      },
      "source": [
        ""
      ],
      "execution_count": null,
      "outputs": []
    },
    {
      "cell_type": "code",
      "metadata": {
        "id": "QDlwF1zZnPN8"
      },
      "source": [
        ""
      ],
      "execution_count": null,
      "outputs": []
    }
  ]
}